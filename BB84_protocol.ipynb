{
  "nbformat": 4,
  "nbformat_minor": 0,
  "metadata": {
    "colab": {
      "provenance": [],
      "authorship_tag": "ABX9TyMgIOZ8EqTIq4K9VLfSO1AA",
      "include_colab_link": true
    },
    "kernelspec": {
      "name": "python3",
      "display_name": "Python 3"
    },
    "language_info": {
      "name": "python"
    }
  },
  "cells": [
    {
      "cell_type": "markdown",
      "metadata": {
        "id": "view-in-github",
        "colab_type": "text"
      },
      "source": [
        "<a href=\"https://colab.research.google.com/github/Hashhhhhhhh/Quantum-Rings-Summer-School/blob/main/BB84_protocol.ipynb\" target=\"_parent\"><img src=\"https://colab.research.google.com/assets/colab-badge.svg\" alt=\"Open In Colab\"/></a>"
      ]
    },
    {
      "cell_type": "code",
      "execution_count": 23,
      "metadata": {
        "colab": {
          "base_uri": "https://localhost:8080/"
        },
        "id": "-whDTCCQhcO-",
        "outputId": "1dfb802b-6b8e-489c-d91e-57dfa45b552b"
      },
      "outputs": [
        {
          "output_type": "stream",
          "name": "stdout",
          "text": [
            "Requirement already satisfied: qiskit in /usr/local/lib/python3.12/dist-packages (2.1.2)\n",
            "Requirement already satisfied: rustworkx>=0.15.0 in /usr/local/lib/python3.12/dist-packages (from qiskit) (0.17.1)\n",
            "Requirement already satisfied: numpy<3,>=1.17 in /usr/local/lib/python3.12/dist-packages (from qiskit) (2.0.2)\n",
            "Requirement already satisfied: scipy>=1.5 in /usr/local/lib/python3.12/dist-packages (from qiskit) (1.16.1)\n",
            "Requirement already satisfied: dill>=0.3 in /usr/local/lib/python3.12/dist-packages (from qiskit) (0.3.8)\n",
            "Requirement already satisfied: stevedore>=3.0.0 in /usr/local/lib/python3.12/dist-packages (from qiskit) (5.4.1)\n",
            "Requirement already satisfied: typing-extensions in /usr/local/lib/python3.12/dist-packages (from qiskit) (4.14.1)\n",
            "Requirement already satisfied: pbr>=2.0.0 in /usr/local/lib/python3.12/dist-packages (from stevedore>=3.0.0->qiskit) (7.0.1)\n",
            "Requirement already satisfied: setuptools in /usr/local/lib/python3.12/dist-packages (from pbr>=2.0.0->stevedore>=3.0.0->qiskit) (75.2.0)\n"
          ]
        }
      ],
      "source": [
        "!pip install qiskit"
      ]
    },
    {
      "cell_type": "code",
      "source": [
        "    pip install qiskit-aer"
      ],
      "metadata": {
        "colab": {
          "base_uri": "https://localhost:8080/"
        },
        "id": "x5ouuJ0shnGw",
        "outputId": "55cfea07-6c8e-4f34-fa44-b9e5511f55c7"
      },
      "execution_count": 24,
      "outputs": [
        {
          "output_type": "stream",
          "name": "stdout",
          "text": [
            "Requirement already satisfied: qiskit-aer in /usr/local/lib/python3.12/dist-packages (0.17.1)\n",
            "Requirement already satisfied: qiskit>=1.1.0 in /usr/local/lib/python3.12/dist-packages (from qiskit-aer) (2.1.2)\n",
            "Requirement already satisfied: numpy>=1.16.3 in /usr/local/lib/python3.12/dist-packages (from qiskit-aer) (2.0.2)\n",
            "Requirement already satisfied: scipy>=1.0 in /usr/local/lib/python3.12/dist-packages (from qiskit-aer) (1.16.1)\n",
            "Requirement already satisfied: psutil>=5 in /usr/local/lib/python3.12/dist-packages (from qiskit-aer) (5.9.5)\n",
            "Requirement already satisfied: python-dateutil>=2.8.0 in /usr/local/lib/python3.12/dist-packages (from qiskit-aer) (2.9.0.post0)\n",
            "Requirement already satisfied: six>=1.5 in /usr/local/lib/python3.12/dist-packages (from python-dateutil>=2.8.0->qiskit-aer) (1.17.0)\n",
            "Requirement already satisfied: rustworkx>=0.15.0 in /usr/local/lib/python3.12/dist-packages (from qiskit>=1.1.0->qiskit-aer) (0.17.1)\n",
            "Requirement already satisfied: dill>=0.3 in /usr/local/lib/python3.12/dist-packages (from qiskit>=1.1.0->qiskit-aer) (0.3.8)\n",
            "Requirement already satisfied: stevedore>=3.0.0 in /usr/local/lib/python3.12/dist-packages (from qiskit>=1.1.0->qiskit-aer) (5.4.1)\n",
            "Requirement already satisfied: typing-extensions in /usr/local/lib/python3.12/dist-packages (from qiskit>=1.1.0->qiskit-aer) (4.14.1)\n",
            "Requirement already satisfied: pbr>=2.0.0 in /usr/local/lib/python3.12/dist-packages (from stevedore>=3.0.0->qiskit>=1.1.0->qiskit-aer) (7.0.1)\n",
            "Requirement already satisfied: setuptools in /usr/local/lib/python3.12/dist-packages (from pbr>=2.0.0->stevedore>=3.0.0->qiskit>=1.1.0->qiskit-aer) (75.2.0)\n"
          ]
        }
      ]
    },
    {
      "cell_type": "code",
      "source": [
        "pip install qiskit[visualization]"
      ],
      "metadata": {
        "colab": {
          "base_uri": "https://localhost:8080/"
        },
        "id": "9z-Ny70ohpZO",
        "outputId": "b2c16835-ed56-4d68-f340-f445ecd20f39"
      },
      "execution_count": 25,
      "outputs": [
        {
          "output_type": "stream",
          "name": "stdout",
          "text": [
            "Requirement already satisfied: qiskit[visualization] in /usr/local/lib/python3.12/dist-packages (2.1.2)\n",
            "Requirement already satisfied: rustworkx>=0.15.0 in /usr/local/lib/python3.12/dist-packages (from qiskit[visualization]) (0.17.1)\n",
            "Requirement already satisfied: numpy<3,>=1.17 in /usr/local/lib/python3.12/dist-packages (from qiskit[visualization]) (2.0.2)\n",
            "Requirement already satisfied: scipy>=1.5 in /usr/local/lib/python3.12/dist-packages (from qiskit[visualization]) (1.16.1)\n",
            "Requirement already satisfied: dill>=0.3 in /usr/local/lib/python3.12/dist-packages (from qiskit[visualization]) (0.3.8)\n",
            "Requirement already satisfied: stevedore>=3.0.0 in /usr/local/lib/python3.12/dist-packages (from qiskit[visualization]) (5.4.1)\n",
            "Requirement already satisfied: typing-extensions in /usr/local/lib/python3.12/dist-packages (from qiskit[visualization]) (4.14.1)\n",
            "Requirement already satisfied: matplotlib>=3.3 in /usr/local/lib/python3.12/dist-packages (from qiskit[visualization]) (3.10.0)\n",
            "Requirement already satisfied: pydot in /usr/local/lib/python3.12/dist-packages (from qiskit[visualization]) (3.0.4)\n",
            "Requirement already satisfied: Pillow>=4.2.1 in /usr/local/lib/python3.12/dist-packages (from qiskit[visualization]) (11.3.0)\n",
            "Requirement already satisfied: pylatexenc>=1.4 in /usr/local/lib/python3.12/dist-packages (from qiskit[visualization]) (2.10)\n",
            "Requirement already satisfied: seaborn>=0.9.0 in /usr/local/lib/python3.12/dist-packages (from qiskit[visualization]) (0.13.2)\n",
            "Requirement already satisfied: sympy>=1.3 in /usr/local/lib/python3.12/dist-packages (from qiskit[visualization]) (1.13.3)\n",
            "Requirement already satisfied: contourpy>=1.0.1 in /usr/local/lib/python3.12/dist-packages (from matplotlib>=3.3->qiskit[visualization]) (1.3.3)\n",
            "Requirement already satisfied: cycler>=0.10 in /usr/local/lib/python3.12/dist-packages (from matplotlib>=3.3->qiskit[visualization]) (0.12.1)\n",
            "Requirement already satisfied: fonttools>=4.22.0 in /usr/local/lib/python3.12/dist-packages (from matplotlib>=3.3->qiskit[visualization]) (4.59.1)\n",
            "Requirement already satisfied: kiwisolver>=1.3.1 in /usr/local/lib/python3.12/dist-packages (from matplotlib>=3.3->qiskit[visualization]) (1.4.9)\n",
            "Requirement already satisfied: packaging>=20.0 in /usr/local/lib/python3.12/dist-packages (from matplotlib>=3.3->qiskit[visualization]) (25.0)\n",
            "Requirement already satisfied: pyparsing>=2.3.1 in /usr/local/lib/python3.12/dist-packages (from matplotlib>=3.3->qiskit[visualization]) (3.2.3)\n",
            "Requirement already satisfied: python-dateutil>=2.7 in /usr/local/lib/python3.12/dist-packages (from matplotlib>=3.3->qiskit[visualization]) (2.9.0.post0)\n",
            "Requirement already satisfied: pandas>=1.2 in /usr/local/lib/python3.12/dist-packages (from seaborn>=0.9.0->qiskit[visualization]) (2.2.2)\n",
            "Requirement already satisfied: pbr>=2.0.0 in /usr/local/lib/python3.12/dist-packages (from stevedore>=3.0.0->qiskit[visualization]) (7.0.1)\n",
            "Requirement already satisfied: mpmath<1.4,>=1.1.0 in /usr/local/lib/python3.12/dist-packages (from sympy>=1.3->qiskit[visualization]) (1.3.0)\n",
            "Requirement already satisfied: pytz>=2020.1 in /usr/local/lib/python3.12/dist-packages (from pandas>=1.2->seaborn>=0.9.0->qiskit[visualization]) (2025.2)\n",
            "Requirement already satisfied: tzdata>=2022.7 in /usr/local/lib/python3.12/dist-packages (from pandas>=1.2->seaborn>=0.9.0->qiskit[visualization]) (2025.2)\n",
            "Requirement already satisfied: setuptools in /usr/local/lib/python3.12/dist-packages (from pbr>=2.0.0->stevedore>=3.0.0->qiskit[visualization]) (75.2.0)\n",
            "Requirement already satisfied: six>=1.5 in /usr/local/lib/python3.12/dist-packages (from python-dateutil>=2.7->matplotlib>=3.3->qiskit[visualization]) (1.17.0)\n"
          ]
        }
      ]
    },
    {
      "cell_type": "code",
      "source": [
        "from qiskit import QuantumCircuit\n",
        "from qiskit_aer import AerSimulator\n",
        "import numpy as np"
      ],
      "metadata": {
        "id": "okckugBMh65R"
      },
      "execution_count": 26,
      "outputs": []
    },
    {
      "cell_type": "code",
      "source": [
        "#number of bits\n",
        "n=10\n",
        "# Alice chooses random bits and bases (0=Z basis, 1=X basis)\n",
        "alice_bits = np.random.randint(2, size=n)\n",
        "alice_bases = np.random.randint(2, size=n)"
      ],
      "metadata": {
        "id": "tAzBgIzmjkJ7"
      },
      "execution_count": 27,
      "outputs": []
    },
    {
      "cell_type": "code",
      "source": [
        "# Bob chooses random bases\n",
        "bob_bases = np.random.randint(2, size=n)"
      ],
      "metadata": {
        "id": "R3w8pSSRrimb"
      },
      "execution_count": 28,
      "outputs": []
    },
    {
      "cell_type": "code",
      "source": [
        "# Quantum circuit to encode Alice's qubits\n",
        "qc = QuantumCircuit(n, n)"
      ],
      "metadata": {
        "id": "m5D5yek6rlcE"
      },
      "execution_count": 29,
      "outputs": []
    },
    {
      "cell_type": "code",
      "source": [
        "# Alice encodes bits in chosen bases\n",
        "for i in range(n):\n",
        "    if alice_bits[i] == 1:\n",
        "        qc.x(i)  # bit flip if bit=1\n",
        "    if alice_bases[i] == 1:\n",
        "        qc.h(i)  # Hadamard if basis=x"
      ],
      "metadata": {
        "id": "tcDnf0K3rpwJ"
      },
      "execution_count": 30,
      "outputs": []
    },
    {
      "cell_type": "code",
      "source": [
        "# Bob measures in his chosen bases\n",
        "for i in range(n):\n",
        "    if bob_bases[i] == 1:\n",
        "        qc.h(i)  # Hadamard before measuring if basis=x\n",
        "    qc.measure(i, i)"
      ],
      "metadata": {
        "id": "IlMWRzpfrrRu"
      },
      "execution_count": 31,
      "outputs": []
    },
    {
      "cell_type": "code",
      "source": [
        "# Execute the circuit with qasm simulator\n",
        "backend = AerSimulator()\n",
        "result = backend.run(qc, shots=1).result()\n",
        "counts = result.get_counts()"
      ],
      "metadata": {
        "id": "D1Ia7TkRruMK"
      },
      "execution_count": 32,
      "outputs": []
    },
    {
      "cell_type": "code",
      "source": [
        "# Extract Bob's measurement results (string to list of bits)\n",
        "bob_results = list(counts.keys())[0][::-1]  # Reverse string to match qubit order\n",
        "bob_bits = np.array([int(bit) for bit in bob_results])"
      ],
      "metadata": {
        "id": "qJrI04l3rxLW"
      },
      "execution_count": 33,
      "outputs": []
    },
    {
      "cell_type": "code",
      "source": [
        "# Alice and Bob keep bits where bases matched\n",
        "key_indices = alice_bases == bob_bases\n",
        "alice_key = alice_bits[key_indices]\n",
        "bob_key = bob_bits[key_indices]\n",
        "\n",
        "print(f\"Alice bits:       {alice_bits}\")\n",
        "print(f\"Alice bases:      {alice_bases}\")\n",
        "print(f\"Bob bases:        {bob_bases}\")\n",
        "print(f\"Bob bits:         {bob_bits}\")\n",
        "print(f\"Matching indices: {key_indices}\")\n",
        "print(f\"Alice key:        {alice_key}\")\n",
        "print(f\"Bob key:          {bob_key}\")"
      ],
      "metadata": {
        "colab": {
          "base_uri": "https://localhost:8080/"
        },
        "id": "G-Ifmwe9r5Dz",
        "outputId": "770bcf8a-a866-408e-d4d7-243fbbc64d68"
      },
      "execution_count": 34,
      "outputs": [
        {
          "output_type": "stream",
          "name": "stdout",
          "text": [
            "Alice bits:       [1 0 1 0 0 0 1 0 0 1]\n",
            "Alice bases:      [1 0 0 0 0 0 1 0 1 1]\n",
            "Bob bases:        [1 1 0 0 1 1 0 0 0 0]\n",
            "Bob bits:         [1 1 1 0 1 0 0 0 0 0]\n",
            "Matching indices: [ True False  True  True False False False  True False False]\n",
            "Alice key:        [1 1 0 0]\n",
            "Bob key:          [1 1 0 0]\n"
          ]
        }
      ]
    }
  ]
}